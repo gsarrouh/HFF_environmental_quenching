{
 "cells": [
  {
   "cell_type": "code",
   "execution_count": 1,
   "metadata": {},
   "outputs": [
    {
     "name": "stdout",
     "output_type": "stream",
     "text": [
      "Beginning master_data*.py\n",
      "\"master_data*.py\" Section 1: import data beginning...\n",
      "DIAG_1 - Catalogue by SUB-type:\n",
      "  Property  Total macs0416 macs1149 macs0717 abell370 abell1063 abell2744\n",
      "----------- ----- -------- -------- -------- -------- --------- ---------\n",
      "      total 44465     7431     6868     6370     6795      7611      9390\n",
      "spec & phot  1916      378      334      260      216       227       501\n",
      "  only phot 33837     5846     5491     4908     5481      5669      6442\n",
      "  spec only   104       10       10       32        5         8        39\n",
      "    no data  8192     1152      994     1016     1033      1636      2361\n",
      "      stars   416       45       39      154       60        71        47\n",
      "Other skipped objects: 0\n",
      "\"master_data*.py\" Section 1 complete.\n",
      "\n",
      "master_data*.py Section 2: calculating del_z's and identifying outliers...\n",
      "DIAG_2\n",
      "OUTLIERS total: 152\n",
      "Outlier fraction: 0.07933194154488518\n",
      "|del_z| mean: 0.06808918655077978\n",
      "|del_z| scatter: 0.1667697660208093\n",
      "\n",
      "\"master_data*.py\" Section 2 complete.\n",
      "\"master_data*.py\" Section 3: classifying galaxy TYPE as star-forming or quiescent...\n",
      "DIAG_3 - Catalogue by TYPE:\n",
      "Property Total macs0416 macs1149 macs0717 abell370 abell1063 abell2744\n",
      "-------- ----- -------- -------- -------- -------- --------- ---------\n",
      "   Total 44465     7431     6868     6370     6795      7611      9390\n",
      "      SF 28883     5171     4777     3923     4632      4846      5534\n",
      "       Q  6718     1018     1035     1236     1044      1034      1351\n",
      "Outliers   152       35       13        9       21        16        58\n",
      "   Other  8712     1207     1043     1202     1098      1715      2447\n",
      "NOTE: \"Other\" is comprised of objects without photometry (i.e. stars, and objects with either bad photometry or both bad photometry and bad spectroscopy).\n",
      "\n",
      "\"master_data*.py\" Section 3 complete.\n",
      "\"master_data*.py\" Section 4: spectroscopic membership cuts and classifying cluster members, field, false pos/neg...\n",
      "MINOR_DIAG_4\n",
      "zcut members false_pos false_neg member_fraction overall_pos/neg_ratio\n",
      "0.02 0.06 SF 100 33 16 0 2.062\n",
      "0.02 0.06  Q 699 18 88 0 0.205\n",
      "\n",
      "DIAG_5 - (SPEC+PHOT) Subsample\n",
      "Catalogue by MEMBER - Star-forming:\n",
      "   Property   Total macs0416 macs1149 macs0717 abell370 abell1063 abell2744\n",
      "------------- ----- -------- -------- -------- -------- --------- ---------\n",
      "        Total  1916      378      334      260      216       227       501\n",
      "Secure member   100        9       23       24       12        14        18\n",
      " Secure field   711      146      149       50       90        76       200\n",
      "    Fasle pos    33       14        2        4        3         4         6\n",
      "    False neg    16        3        2        1        2         1         7\n",
      "NOTE: Total (row) reported under each cluster is sum of SF+Q.\n",
      "\n",
      "Catalogue by MEMBER - Quiescent:\n",
      "   Property   Total macs0416 macs1149 macs0717 abell370 abell1063 abell2744\n",
      "------------- ----- -------- -------- -------- -------- --------- ---------\n",
      "        Total  1916      378      334      260      216       227       501\n",
      "Secure member   699      119      122      143       74        90       151\n",
      " Secure field    54       22        4        7        5         6        10\n",
      "    Fasle pos    18        7        0        4        2         0         5\n",
      "    False neg    88       13       13        8        2        16        36\n",
      "NOTE: Total reported under each cluster is sum of SF+Q.\n",
      "NOTE: Differences b/w Total row and sum of other rows might arise due to the \"buffer\" zone built in between classifying objects as secure member vs field.\n",
      "\n",
      "\n",
      "Overall membership fraction: \n",
      "SF: 0.11627906976744186  & Q: 0.8137369033760187    for cutoff:\n",
      "[0.02, 0.06]\n",
      "\n",
      "Total catalogue length: 44465\n",
      "SPEC+PHOT sub-sample: 1916\n",
      "SF: 860\n",
      "Q: 859\n",
      "Lost due to buffer b/w member & field\n",
      "SF: 40 ;    Q: 5\n",
      "Other (not in (spec + phot) subsample): 42549\n",
      "NOTE: Differences b/w Total row and sum of other rows might arise due to the \"buffer\" zone built in between classifying objects as secure member vs field.\n",
      "\n",
      "\"master_data*.py\" Section 4 complete.\n",
      "\"master_data*.py\" Section 5: photometric cluster membership selection beginning...\n",
      "DIAG_6 - PHOT-ONLY Subsample\n",
      "Catalogue by MEMBER - Star-forming:\n",
      "   Property   Total macs0416 macs1149 macs0717 abell370 abell1063 abell2744\n",
      "------------- ----- -------- -------- -------- -------- --------- ---------\n",
      "        Total  2823      276      431      540      461       437       678\n",
      "Secure member  2225      276      300      370      419       352       508\n",
      " Secure field   598        0      131      170       42        85       170\n",
      "NOTE: Total reported under each cluster is sum of SF+Q.\n",
      "\n",
      "Catalogue by MEMBER - Quiescent:\n",
      "   Property   Total macs0416 macs1149 macs0717 abell370 abell1063 abell2744\n",
      "------------- ----- -------- -------- -------- -------- --------- ---------\n",
      "        Total  2767      255      501      634      403       417       557\n",
      "Secure member  2493      255      439      532      389       387       491\n",
      " Secure field   274        0       62      102       14        30        66\n",
      "Lost due to buffer b/w member & field\n",
      "SF: 1251 ;    Q: 738\n",
      "NOTE: Total reported under each cluster is sum of SF+Q.\n",
      "NOTE: Differences b/w Total row and sum of other rows might arise due to the \"buffer\" zone built in between classifying objects as secure member vs field.\n",
      "\n",
      "\n",
      "Overall membership fraction: \n",
      "SF: 0.07951256  & Q: 0.42586267    for cutoff: [0.02, 0.06]\n",
      "\n",
      "Total catalogue length: 44465\n",
      "PHOT ONLY sub-sample: 33837\n",
      "SF (members + field): 2823\n",
      "Q (members + field): 2767\n",
      "Field outliers (z>0.55 or z<0.3): 26258\n",
      "Lost due to buffer b/w definition of cluster member/field: 1989\n",
      "Stars & outliers: 0\n",
      "Sum of the above: 33837\n",
      "Difference between # in PHOT-ONLY subsample & sum above: 0\n",
      "Other (not in phot only subsample): 10628\n",
      "NOTE: Differences b/w Total row and sum of other rows might arise due to the \"buffer\" zone built in between classifying objects as secure member vs field.\n",
      "\n",
      "\"master_data*.py\" Section 5 complete.\n",
      "\"master_data*.py\" Section 6: removing BCGs beginning...\n",
      "Total BCGs removed from catalogue: 0 .\n",
      "BCGs removed by cluster: [0 0 0 0 0 0]\n",
      "\"master_data*.py\" Section 6 complete.\n",
      "Program \"master_data*.py\" took: 22.544522047042847 seconds to run.\n",
      "\n",
      "\n",
      "\n",
      "\n",
      "\"master_data*.py\"  terminated successfully.\n",
      "\n",
      "Program \"main_project_file.py\" took: 22.544840812683105 seconds to run.\n",
      "\n",
      "\n",
      "\n",
      "\n",
      "Program terminated successfully.\n"
     ]
    }
   ],
   "source": [
    "run main_project_file.py"
   ]
  },
  {
   "cell_type": "code",
   "execution_count": 63,
   "metadata": {},
   "outputs": [],
   "source": [
    "\n",
    "#\n",
    "#\n",
    "## Fig 1: mass vs magnitude scatter plot, colourbar = redshift (z_phot)\n",
    "## Now make the single scatter plot for M0416 (i.e. cluster stored in the first position of the above lists)\n",
    "#\n",
    "c_map = plt.get_cmap(\"spring\")\n",
    "#\n",
    "plt.close()\n",
    "fig, ax = plt.subplots()\n",
    "ax.scatter(plotting_array_temp[0],plotting_array_temp[1], marker='o', s=10, c=plotting_array_temp[2], cmap= c_map)#,facecolors='none', edgecolors='r')\n",
    "#ax.scatter(SF_masses[0][0],SF_masses[0][1], marker='*', s=10, facecolors='none', edgecolors='b')\n",
    "ax.plot([limiting_mag[0],limiting_mag[0]],[-5,17],'--g', linewidth=1.5)\n",
    "ax.plot([0,35],[max_min_mass[0],max_min_mass[0]], '--k', linewidth=1.0)\n",
    "ax.plot([0,35],[max_min_mass[1],max_min_mass[1]], '--k', linewidth=1.0)\n",
    "sm =  ScalarMappable(cmap=c_map)\n",
    "sm.set_array([])\n",
    "cbar = fig.colorbar(sm, ax=ax)\n",
    "cbar.ax.set_title(\"del_z$_{phot}$\")\n",
    "#ax.pcolormesh(plotting_array_temp[0], plotting_array_temp[1], plotting_array_temp[2], cmap=c_map)\n",
    "#ax.colorbar()\n",
    "\n",
    "#plt.plot([0,35],[max_mass,max_mass], '-.k', linewidth=0.8)\n",
    "#plt.plot([0,35],[min_mass,min_mass], '-.k', linewidth=0.8)\n",
    "ax.set_xlabel('$m_{F160W}$')\n",
    "ax.set_xlim(17,30)\n",
    "ax.set_ylabel('$log(M/M_{\\odot})$')\n",
    "ax.grid(b=False, which='major', axis='both', color = 'k', linestyle = ':')\n",
    "ax.tick_params(axis='both', which='both',direction='in',color='k',top='on',right='on',labelright='off', labelleft='on')\n",
    "ax.minorticks_on()\n",
    "\n",
    "\n",
    "plt.show()\n",
    "\n",
    "\n"
   ]
  },
  {
   "cell_type": "code",
   "execution_count": 59,
   "metadata": {},
   "outputs": [],
   "source": [
    "%matplotlib qt"
   ]
  },
  {
   "cell_type": "code",
   "execution_count": 26,
   "metadata": {},
   "outputs": [
    {
     "name": "stdout",
     "output_type": "stream",
     "text": [
      "WARNING: NO GALAXIES FOUND AT CLUSTER 1  LIMITING MAG. +/- 0.05 \n",
      "Closest thing Old Faithful could find was 7.08  w/ mag 26.14\n"
     ]
    },
    {
     "ename": "TypeError",
     "evalue": "'int' object does not support item assignment",
     "output_type": "error",
     "traceback": [
      "\u001b[0;31m---------------------------------------------------------------------------\u001b[0m",
      "\u001b[0;31mTypeError\u001b[0m                                 Traceback (most recent call last)",
      "\u001b[0;32m<ipython-input-26-d67965da8ced>\u001b[0m in \u001b[0;36m<module>\u001b[0;34m\u001b[0m\n\u001b[1;32m     14\u001b[0m     \u001b[0mmag_of_limiting_mass\u001b[0m\u001b[0;34m[\u001b[0m\u001b[0mii\u001b[0m\u001b[0;34m]\u001b[0m \u001b[0;34m=\u001b[0m \u001b[0mtemp_limit\u001b[0m\u001b[0;34m[\u001b[0m\u001b[0;36m0\u001b[0m\u001b[0;34m]\u001b[0m\u001b[0;34m\u001b[0m\u001b[0;34m\u001b[0m\u001b[0m\n\u001b[1;32m     15\u001b[0m     \u001b[0mz_of_limiting_mass\u001b[0m\u001b[0;34m[\u001b[0m\u001b[0mii\u001b[0m\u001b[0;34m]\u001b[0m \u001b[0;34m=\u001b[0m \u001b[0mtemp_limit\u001b[0m\u001b[0;34m[\u001b[0m\u001b[0;36m2\u001b[0m\u001b[0;34m]\u001b[0m\u001b[0;34m\u001b[0m\u001b[0;34m\u001b[0m\u001b[0m\n\u001b[0;32m---> 16\u001b[0;31m     \u001b[0mmax_min_mass\u001b[0m\u001b[0;34m[\u001b[0m\u001b[0mii\u001b[0m\u001b[0;34m]\u001b[0m\u001b[0;34m[\u001b[0m\u001b[0;36m0\u001b[0m\u001b[0;34m]\u001b[0m \u001b[0;34m=\u001b[0m \u001b[0mtemp_limit\u001b[0m\u001b[0;34m[\u001b[0m\u001b[0;36m1\u001b[0m\u001b[0;34m]\u001b[0m\u001b[0;34m\u001b[0m\u001b[0;34m\u001b[0m\u001b[0m\n\u001b[0m\u001b[1;32m     17\u001b[0m     \u001b[0mmax_min_mass\u001b[0m\u001b[0;34m[\u001b[0m\u001b[0mii\u001b[0m\u001b[0;34m]\u001b[0m\u001b[0;34m[\u001b[0m\u001b[0;36m1\u001b[0m\u001b[0;34m]\u001b[0m \u001b[0;34m=\u001b[0m \u001b[0mtemp_limit\u001b[0m\u001b[0;34m[\u001b[0m\u001b[0;36m1\u001b[0m\u001b[0;34m]\u001b[0m\u001b[0;34m\u001b[0m\u001b[0;34m\u001b[0m\u001b[0m\n",
      "\u001b[0;31mTypeError\u001b[0m: 'int' object does not support item assignment"
     ]
    }
   ],
   "source": [
    "if len(masses_at_lim_mag[ii]) == 0:                     # if no objects were found within the tolerance range...\n",
    "    temp_list = []\n",
    "    for jj in range(len(temp_mag_member_array)):\n",
    "        if temp_mag_member_array[jj][0] <= limiting_mag[ii]:\n",
    "            temp_list.append([temp_mag_member_array[jj][0],temp_mag_member_array[jj][1],temp_mag_member_array[jj][2]])\n",
    "    temp_limit = min(temp_list, key=lambda x: abs(x[0]-limiting_mag[ii])) \n",
    "    while temp_limit[0] > limiting_mag[ii]:\n",
    "        print('Closest limiting mass found was above limiting mag. Looking for a new one...')\n",
    "        index = np.where(temp_mag_member_array == temp_limit[0])\n",
    "        temp_mag_member_array = np.delete(temp_mag_member_array, (index), axis=0)\n",
    "        temp_limit = min(temp_mag_member_array, key=lambda x: abs(x[0]-limiting_mag[ii]))\n",
    "    print('WARNING: NO GALAXIES FOUND AT CLUSTER %s'%(ii+1),' LIMITING MAG. of %s'%limiting_mag[ii],' +/- %.2f'%tol,'\\nClosest thing Old Faithful could find was %.2f'%temp_limit[1],' w/ mag %.2f'%temp_limit[0])\n",
    "    limiting_mass[ii] = temp_limit[1]  \n",
    "    mag_of_limiting_mass[ii] = temp_limit[0]\n",
    "    z_of_limiting_mass[ii] = temp_limit[2]\n",
    "    max_min_mass[ii][0] = temp_limit[1]\n",
    "    max_min_mass[ii][1] = temp_limit[1]"
   ]
  },
  {
   "cell_type": "code",
   "execution_count": 37,
   "metadata": {},
   "outputs": [
    {
     "data": {
      "text/plain": [
       "6"
      ]
     },
     "execution_count": 37,
     "metadata": {},
     "output_type": "execute_result"
    }
   ],
   "source": [
    "len(masses_at_lim_mag[1])"
   ]
  },
  {
   "cell_type": "code",
   "execution_count": 48,
   "metadata": {},
   "outputs": [
    {
     "data": {
      "text/plain": [
       "([26.474602, 7.63, 0.0077808501061025015], 5)"
      ]
     },
     "execution_count": 48,
     "metadata": {},
     "output_type": "execute_result"
    }
   ],
   "source": [
    "def max_nested_list(nested_list,axis):\n",
    "    max_value = 0\n",
    "    index_returned = 0\n",
    "    for index in range(len(nested_list)):\n",
    "        item = nested_list[index][axis]\n",
    "        if item > max_value:\n",
    "            max_value = item\n",
    "            index_returned = index\n",
    "    return nested_list[index_returned], index\n",
    "#\n",
    "max_nested_list(masses_at_lim_mag[1],1)"
   ]
  },
  {
   "cell_type": "code",
   "execution_count": 49,
   "metadata": {},
   "outputs": [
    {
     "data": {
      "text/plain": [
       "[[26.523798, 7.57, 0.023788434771605697],\n",
       " [26.491247, 7.47, -0.032797858099062945],\n",
       " [26.542814, 7.3, 0.004259163655136771],\n",
       " [26.52032, 7.33, -0.03710176098938031],\n",
       " [26.474602, 7.63, 0.0077808501061025015],\n",
       " [26.527372, 7.43, -0.04766431287343838]]"
      ]
     },
     "execution_count": 49,
     "metadata": {},
     "output_type": "execute_result"
    }
   ],
   "source": [
    "masses_at_lim_mag[1]"
   ]
  },
  {
   "cell_type": "code",
   "execution_count": 46,
   "metadata": {},
   "outputs": [
    {
     "data": {
      "text/plain": [
       "array([[ 1, 22,  4],\n",
       "       [ 9,  3,  6],\n",
       "       [34, 45, 88],\n",
       "       [66, 66, 66],\n",
       "       [ 2,  3, 44]])"
      ]
     },
     "execution_count": 46,
     "metadata": {},
     "output_type": "execute_result"
    }
   ],
   "source": [
    "a = np.array([[1,22,4],[9,3,6],[34,45,88],[66,66,66],[2,3,44]])\n",
    "a"
   ]
  },
  {
   "cell_type": "code",
   "execution_count": 50,
   "metadata": {},
   "outputs": [
    {
     "data": {
      "text/plain": [
       "[[26.523798, 7.57, 0.023788434771605697],\n",
       " [26.491247, 7.47, -0.032797858099062945],\n",
       " [26.542814, 7.3, 0.004259163655136771],\n",
       " [26.52032, 7.33, -0.03710176098938031],\n",
       " [26.474602, 7.63, 0.0077808501061025015],\n",
       " [26.527372, 7.43, -0.04766431287343838]]"
      ]
     },
     "execution_count": 50,
     "metadata": {},
     "output_type": "execute_result"
    }
   ],
   "source": [
    "masses_at_lim_mag[1]"
   ]
  },
  {
   "cell_type": "code",
   "execution_count": 51,
   "metadata": {},
   "outputs": [
    {
     "data": {
      "text/plain": [
       "([26.474602, 7.63, 0.0077808501061025015], 5)"
      ]
     },
     "execution_count": 51,
     "metadata": {},
     "output_type": "execute_result"
    }
   ],
   "source": [
    "max_nested_list(masses_at_lim_mag[1],1)"
   ]
  },
  {
   "cell_type": "code",
   "execution_count": 54,
   "metadata": {},
   "outputs": [
    {
     "name": "stdout",
     "output_type": "stream",
     "text": [
      "[26.542814, 7.3, 0.004259163655136771]\n"
     ]
    }
   ],
   "source": [
    "#\n",
    "def min_nested_list(nested_list,axis):\n",
    "    min_value = 1e10\n",
    "    index_returned = 0\n",
    "    for index in range(len(nested_list)):\n",
    "        item = nested_list[index][axis]\n",
    "        if item < min_value:\n",
    "            min_value = item\n",
    "            index_returned = index\n",
    "    return nested_list[index_returned], index\n",
    "#\n",
    "#\n",
    "the_not_quite_as_good_shit, the_not_quite_as_good_shit_index = min_nested_list(masses_at_lim_mag[1],1)\n",
    "print(the_not_quite_as_good_shit)"
   ]
  },
  {
   "cell_type": "code",
   "execution_count": null,
   "metadata": {},
   "outputs": [],
   "source": []
  }
 ],
 "metadata": {
  "kernelspec": {
   "display_name": "Python 3",
   "language": "python",
   "name": "python3"
  },
  "language_info": {
   "codemirror_mode": {
    "name": "ipython",
    "version": 3
   },
   "file_extension": ".py",
   "mimetype": "text/x-python",
   "name": "python",
   "nbconvert_exporter": "python",
   "pygments_lexer": "ipython3",
   "version": "3.7.1"
  }
 },
 "nbformat": 4,
 "nbformat_minor": 4
}
