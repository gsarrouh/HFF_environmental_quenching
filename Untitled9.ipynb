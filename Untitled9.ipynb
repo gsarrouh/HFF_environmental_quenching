{
 "cells": [
  {
   "cell_type": "code",
   "execution_count": 129,
   "metadata": {
    "scrolled": false
   },
   "outputs": [],
   "source": [
    "#\n",
    "if adams_flag == 0:\n",
    "    pass\n",
    "#\n",
    "#\n",
    "## END of DIAGNOSTIC loop\n",
    "#\n",
    "else:\n",
    "    # define cut-offs for SF & Q\n",
    "    #z_cutoff = [0.02,0.06]#[0.05,0.05]         # NOTE: THIS IS NOW SET IN \"main_project_file.py\"\n",
    "    #\n",
    "    ## Call \"spec_membership_selection.py\" to determine spec. membership based on hard-coded cuts you just made\n",
    "    #master_cat, mem_spec, field_spec, pos_spec, neg_spec, lost_due_to_buffer_spec = spec_membership_selection(master_cat,z_cutoff)\n",
    "    #\n",
    "    exec(open('spec_membership_selection_file.py').read()) \n",
    "    #\n",
    "    #\n",
    "    #\n",
    "#    \n",
    "#\n",
    "## calculate membership acceptance fraction\n",
    "mem_fraction = np.array([0]*2)\n",
    "#\n",
    "mem_fraction[0] = np.round(np.sum(mem_spec[0])/np.sum([mem_spec[0],field_spec[0],pos_spec[0],neg_spec[0]]),decimals=3)\n",
    "mem_fraction[1] = np.round(np.sum(mem_spec[1])/np.sum([mem_spec[1],field_spec[1],pos_spec[1],neg_spec[1]]),decimals=3)\n",
    "#"
   ]
  },
  {
   "cell_type": "code",
   "execution_count": 115,
   "metadata": {},
   "outputs": [],
   "source": [
    "project_master_variational_flag = 0"
   ]
  },
  {
   "cell_type": "code",
   "execution_count": 117,
   "metadata": {},
   "outputs": [
    {
     "ename": "NameError",
     "evalue": "name 'mem_spec' is not defined",
     "output_type": "error",
     "traceback": [
      "\u001b[0;31m---------------------------------------------------------------------------\u001b[0m",
      "\u001b[0;31mNameError\u001b[0m                                 Traceback (most recent call last)",
      "\u001b[0;32m<ipython-input-117-5622fd448955>\u001b[0m in \u001b[0;36m<module>\u001b[0;34m\u001b[0m\n\u001b[1;32m      2\u001b[0m \u001b[0mmem_fraction\u001b[0m \u001b[0;34m=\u001b[0m \u001b[0mnp\u001b[0m\u001b[0;34m.\u001b[0m\u001b[0marray\u001b[0m\u001b[0;34m(\u001b[0m\u001b[0;34m[\u001b[0m\u001b[0;36m0\u001b[0m\u001b[0;34m]\u001b[0m\u001b[0;34m*\u001b[0m\u001b[0;36m2\u001b[0m\u001b[0;34m)\u001b[0m\u001b[0;34m\u001b[0m\u001b[0;34m\u001b[0m\u001b[0m\n\u001b[1;32m      3\u001b[0m \u001b[0;31m#\u001b[0m\u001b[0;34m\u001b[0m\u001b[0;34m\u001b[0m\u001b[0;34m\u001b[0m\u001b[0m\n\u001b[0;32m----> 4\u001b[0;31m \u001b[0mmem_fraction\u001b[0m\u001b[0;34m[\u001b[0m\u001b[0;36m0\u001b[0m\u001b[0;34m]\u001b[0m \u001b[0;34m=\u001b[0m \u001b[0mnp\u001b[0m\u001b[0;34m.\u001b[0m\u001b[0mround\u001b[0m\u001b[0;34m(\u001b[0m\u001b[0mnp\u001b[0m\u001b[0;34m.\u001b[0m\u001b[0msum\u001b[0m\u001b[0;34m(\u001b[0m\u001b[0mmem_spec\u001b[0m\u001b[0;34m[\u001b[0m\u001b[0;36m0\u001b[0m\u001b[0;34m]\u001b[0m\u001b[0;34m)\u001b[0m\u001b[0;34m/\u001b[0m\u001b[0mnp\u001b[0m\u001b[0;34m.\u001b[0m\u001b[0msum\u001b[0m\u001b[0;34m(\u001b[0m\u001b[0;34m[\u001b[0m\u001b[0mmem_spec\u001b[0m\u001b[0;34m[\u001b[0m\u001b[0;36m0\u001b[0m\u001b[0;34m]\u001b[0m\u001b[0;34m,\u001b[0m\u001b[0mfield_spec\u001b[0m\u001b[0;34m[\u001b[0m\u001b[0;36m0\u001b[0m\u001b[0;34m]\u001b[0m\u001b[0;34m,\u001b[0m\u001b[0mpos_spec\u001b[0m\u001b[0;34m[\u001b[0m\u001b[0;36m0\u001b[0m\u001b[0;34m]\u001b[0m\u001b[0;34m,\u001b[0m\u001b[0mneg_spec\u001b[0m\u001b[0;34m[\u001b[0m\u001b[0;36m0\u001b[0m\u001b[0;34m]\u001b[0m\u001b[0;34m]\u001b[0m\u001b[0;34m)\u001b[0m\u001b[0;34m,\u001b[0m\u001b[0mdecimals\u001b[0m\u001b[0;34m=\u001b[0m\u001b[0;36m3\u001b[0m\u001b[0;34m)\u001b[0m\u001b[0;34m\u001b[0m\u001b[0;34m\u001b[0m\u001b[0m\n\u001b[0m\u001b[1;32m      5\u001b[0m \u001b[0mmem_fraction\u001b[0m\u001b[0;34m[\u001b[0m\u001b[0;36m1\u001b[0m\u001b[0;34m]\u001b[0m \u001b[0;34m=\u001b[0m \u001b[0mnp\u001b[0m\u001b[0;34m.\u001b[0m\u001b[0mround\u001b[0m\u001b[0;34m(\u001b[0m\u001b[0mnp\u001b[0m\u001b[0;34m.\u001b[0m\u001b[0msum\u001b[0m\u001b[0;34m(\u001b[0m\u001b[0mmem_spec\u001b[0m\u001b[0;34m[\u001b[0m\u001b[0;36m1\u001b[0m\u001b[0;34m]\u001b[0m\u001b[0;34m)\u001b[0m\u001b[0;34m/\u001b[0m\u001b[0mnp\u001b[0m\u001b[0;34m.\u001b[0m\u001b[0msum\u001b[0m\u001b[0;34m(\u001b[0m\u001b[0;34m[\u001b[0m\u001b[0mmem_spec\u001b[0m\u001b[0;34m[\u001b[0m\u001b[0;36m1\u001b[0m\u001b[0;34m]\u001b[0m\u001b[0;34m,\u001b[0m\u001b[0mfield_spec\u001b[0m\u001b[0;34m[\u001b[0m\u001b[0;36m1\u001b[0m\u001b[0;34m]\u001b[0m\u001b[0;34m,\u001b[0m\u001b[0mpos_spec\u001b[0m\u001b[0;34m[\u001b[0m\u001b[0;36m1\u001b[0m\u001b[0;34m]\u001b[0m\u001b[0;34m,\u001b[0m\u001b[0mneg_spec\u001b[0m\u001b[0;34m[\u001b[0m\u001b[0;36m1\u001b[0m\u001b[0;34m]\u001b[0m\u001b[0;34m]\u001b[0m\u001b[0;34m)\u001b[0m\u001b[0;34m,\u001b[0m\u001b[0mdecimals\u001b[0m\u001b[0;34m=\u001b[0m\u001b[0;36m3\u001b[0m\u001b[0;34m)\u001b[0m\u001b[0;34m\u001b[0m\u001b[0;34m\u001b[0m\u001b[0m\n\u001b[1;32m      6\u001b[0m \u001b[0;31m#\u001b[0m\u001b[0;34m\u001b[0m\u001b[0;34m\u001b[0m\u001b[0;34m\u001b[0m\u001b[0m\n",
      "\u001b[0;31mNameError\u001b[0m: name 'mem_spec' is not defined"
     ]
    }
   ],
   "source": [
    "## calculate membership acceptance fraction\n",
    "mem_fraction = np.array([0]*2)\n",
    "#\n",
    "mem_fraction[0] = np.round(np.sum(mem_spec[0])/np.sum([mem_spec[0],field_spec[0],pos_spec[0],neg_spec[0]]),decimals=3)\n",
    "mem_fraction[1] = np.round(np.sum(mem_spec[1])/np.sum([mem_spec[1],field_spec[1],pos_spec[1],neg_spec[1]]),decimals=3)\n",
    "#\n",
    "if summary_flag_4 == 1 or adams_flag == 1:\n",
    "        header = 'zcut members false_pos false_neg member_fraction overall_pos/neg_ratio'\n",
    "        zcut = str(np.round(z_cutoff[0],decimals=3))+space+str(np.round(z_cutoff[1],decimals=3))\n",
    "        SF_1 = str(np.sum(mem_spec[0]))      # cluster members\n",
    "        SF_2 = str(np.sum(pos_spec[0]))      # false pos\n",
    "        SF_3 = str(np.sum(neg_spec[0]))      # false neg\n",
    "        SF_4 = str(mem_fraction_spec[0])     # cluster membership fraction\n",
    "        SF_5 = str(np.round((np.sum(pos_spec[0])/np.sum(neg_spec[0])),decimals=3))    # overall false pos/neg ratio\n",
    "        entry_1 = zcut+space+'SF'+space+SF_1+space+SF_2+space+SF_3+space+SF_4+space+SF_5\n",
    "        Q_1 = str(np.sum(mem_spec[1]))\n",
    "        Q_2 = str(np.sum(pos_spec[1]))\n",
    "        Q_3 = str(np.sum(neg_spec[1]))\n",
    "        Q_4 = str(mem_fraction_spec[1])\n",
    "        Q_5 = str(np.round((np.sum(pos_spec[1])/np.sum(neg_spec[1])),decimals=3))\n",
    "        entry_2 = zcut+space+' Q'+space+Q_1+space+Q_2+space+Q_3+space+Q_4+space+Q_5            \n",
    "        # print\n",
    "        print('MINOR_DIAG_4\\n'+header+'\\n'+entry_1+'\\n'+entry_2+'\\n')\n",
    "#    \n",
    "## SECTION (4.1): SUMMARY table\n",
    "##  summarize data population as segregated above, and display in a table\n",
    "#\n",
    "if summary_flag_4 == 1 or adams_flag == 1:\n",
    "    ## Summarize initial data stats in table\n",
    "    spec_member_names = Column(['Total','SF member','SF field','SF fasle pos','SF false neg','Q member','Q field','Q false pos','Q false neg','SUM'],name='Property')\n",
    "    col_names = cluster_names\n",
    "    # SF table\n",
    "    spec_member0 = Column([np.sum([phot_only,both]),np.sum(mem_spec[0]),np.sum(field_spec[0]),np.sum(pos_spec[0]),np.sum(neg_spec[0]),np.sum(mem_spec[1]),np.sum(field_spec[1]),np.sum(pos_spec[1]),np.sum(neg_spec[1]),np.sum([np.sum(mem_spec),np.sum(field_spec),np.sum(pos_spec),np.sum(neg_spec)])],name='Total')  # total column\n",
    "    spec_member_stats = Table([spec_member_names,spec_member0])\n",
    "    for ii in range(len(mem[0])):\n",
    "        col = Column([np.sum([both[ii],phot_only[ii]]),mem_spec[0][ii],field_spec[0][ii],pos_spec[0][ii],neg_spec[0][ii],mem_spec[1][ii],field_spec[1][ii],pos_spec[1][ii],neg_spec[1][ii],np.sum([mem_spec[0][ii],field_spec[0][ii],pos_spec[0][ii],neg_spec[0][ii],mem_spec[1][ii],field_spec[1][ii],pos_spec[1][ii],neg_spec[1][ii]])],name=col_names[ii])\n",
    "        spec_member_stats.add_column(col)  # add columns to table one cluster at a time\n",
    "    #\n",
    "    # Q table\n",
    "    member0 = Column([np.sum(both),np.sum(mem[1]),np.sum(field[1]),np.sum(pos[1]),np.sum(neg[1])],name='Total')  # total column\n",
    "    Q_spec_stats = Table([member_names,member0])\n",
    "    for ii in range(len(mem[1])):\n",
    "        col = Column([both[ii],mem[1][ii],field[1][ii],pos[1][ii],neg[1][ii]],name=col_names[ii])\n",
    "        Q_spec_stats.add_column(col)  # add columns to table one cluster at a time\n",
    "    #\n",
    "    print('DIAG_5 - (SPEC+PHOT) Subsample\\nCatalogue by MEMBER - Star-forming:')\n",
    "    print(SF_spec_stats)\n",
    "    print('NOTE: Total (row) reported under each cluster is sum of SF+Q.\\n')\n",
    "    print('Catalogue by MEMBER - Quiescent:')\n",
    "    print(Q_spec_stats)\n",
    "    print('NOTE: Total reported under each cluster is sum of SF+Q.')\n",
    "    print('NOTE: Differences b/w Total row and sum of other rows might arise due to the \"buffer\" zone built in between classifying objects as secure member vs field.\\n')\n",
    "#\n",
    "#"
   ]
  },
  {
   "cell_type": "code",
   "execution_count": 107,
   "metadata": {},
   "outputs": [
    {
     "data": {
      "text/plain": [
       "array([35636, 35614, 35610, 35622, 35617, 35659])"
      ]
     },
     "execution_count": 107,
     "metadata": {},
     "output_type": "execute_result"
    }
   ],
   "source": [
    "np.sum(SF_type),np.sum(Q_type),outliers])"
   ]
  },
  {
   "cell_type": "code",
   "execution_count": 118,
   "metadata": {},
   "outputs": [],
   "source": [
    "N,M = [4 ,5]"
   ]
  },
  {
   "cell_type": "code",
   "execution_count": 119,
   "metadata": {},
   "outputs": [
    {
     "data": {
      "text/plain": [
       "4"
      ]
     },
     "execution_count": 119,
     "metadata": {},
     "output_type": "execute_result"
    }
   ],
   "source": [
    "N"
   ]
  },
  {
   "cell_type": "code",
   "execution_count": null,
   "metadata": {},
   "outputs": [],
   "source": []
  }
 ],
 "metadata": {
  "kernelspec": {
   "display_name": "Python 3",
   "language": "python",
   "name": "python3"
  },
  "language_info": {
   "codemirror_mode": {
    "name": "ipython",
    "version": 3
   },
   "file_extension": ".py",
   "mimetype": "text/x-python",
   "name": "python",
   "nbconvert_exporter": "python",
   "pygments_lexer": "ipython3",
   "version": "3.7.1"
  }
 },
 "nbformat": 4,
 "nbformat_minor": 4
}
