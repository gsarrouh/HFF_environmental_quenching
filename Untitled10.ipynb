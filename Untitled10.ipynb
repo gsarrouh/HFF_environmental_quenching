{
 "cells": [
  {
   "cell_type": "code",
   "execution_count": 218,
   "metadata": {},
   "outputs": [
    {
     "name": "stdout",
     "output_type": "stream",
     "text": [
      "\"main_project_file\" will run the following:\n",
      "Section 1: \"master_data*.py\"\n",
      "\n",
      "Beginning master_data*.py\n",
      "\"master_data*.py\" Section 1: import data beginning...\n",
      "\n",
      "Summary Table 1 - Catalogue by SUB-type:\n",
      "     Property      Total M0416 M1149 M0717 A370 A1063 A2744\n",
      "------------------ ----- ----- ----- ----- ---- ----- -----\n",
      "FULL PHOT (Parent) 35753  6224  5825  5168 5697  5896  6943\n",
      "             Total 44465  7431  6868  6370 6795  7611  9390\n",
      "       spec & phot  1916   378   334   260  216   227   501\n",
      "         only phot 33837  5846  5491  4908 5481  5669  6442\n",
      "         spec only   104    10    10    32    5     8    39\n",
      "           no data  8192  1152   994  1016 1033  1636  2361\n",
      "             stars   416    45    39   154   60    71    47\n",
      "               SUM 44465  7431  6868  6370 6795  7611  9390\n",
      "\n",
      "Other skipped objects: 0 \n",
      "NOTE: \"use_phot==1\": 35964 ;  \"use_phot==0\": 8501\n",
      "NOTE: phot only + (spec+phot) samples are the FULL PHOT (Parent) sample w/: 35753 \n",
      "NOTE: Difference b/w Parent sample & \"use_phot==1\": 211\n",
      "\n",
      "UVJ and excesses calculation (identified w/ \"use_phot==1\": \n",
      "       Property        Total M0416 M1149 M0717 A370 A1063 A2744\n",
      "---------------------- ----- ----- ----- ----- ---- ----- -----\n",
      "         Parent sample 35753  6224  5825  5168 5697  5896  6943\n",
      "       Objects w/ phot 35753  6224  5825  5168 5697  5896  6943\n",
      "      Objects w/o phot   211    15    11    41   45    14    85\n",
      "Objects not classified     0     0     0     0    0     0     0\n",
      "                   SUM 35964  6239  5836  5209 5742  5910  7028 \n",
      "\n",
      "NOTE: \"objects w/o phot\" are those w/ \"use_flag\" == 1 that have been classified as no good data/bad phot.\n",
      "Note: \"use_phot\" = 1: 35964 ; \"use_phot\" = 0: 8501\n",
      "\"master_data*.py\" Section 1 complete.\n",
      "\n",
      "\n",
      "'master_data*.py' Section 2: calculating del_z's and identifying outliers...\n",
      "\n"
     ]
    },
    {
     "data": {
      "image/png": "[encoded data removed]",
      "text/plain": [
       "<Figure size 432x288 with 1 Axes>"
      ]
     },
     "metadata": {
      "needs_background": "light"
     },
     "output_type": "display_data"
    },
    {
     "data": {
      "image/png": "[encoded data removed]",
      "text/plain": [
       "<Figure size 432x288 with 1 Axes>"
      ]
     },
     "metadata": {
      "needs_background": "light"
     },
     "output_type": "display_data"
    },
    {
     "name": "stdout",
     "output_type": "stream",
     "text": [
      "# phot: 33837 \n",
      "# spec: 1916 \n",
      "Total: 35753\n"
     ]
    },
    {
     "data": {
      "image/png": "[encoded data removed]",
      "text/plain": [
       "<Figure size 432x288 with 6 Axes>"
      ]
     },
     "metadata": {
      "needs_background": "light"
     },
     "output_type": "display_data"
    },
    {
     "name": "stdout",
     "output_type": "stream",
     "text": [
      "\n",
      "Summary Table 2: delz calculation: \n",
      "   Property    Total M0416 M1149 M0717 A370 A1063 A2744\n",
      "-------------- ----- ----- ----- ----- ---- ----- -----\n",
      " Parent sample 35753  6224  5825  5168 5697  5896  6943\n",
      "Spec subsample  1916   378   334   260  216   227   501\n",
      "Phot subsample 33837  5846  5491  4908 5481  5669  6442\n",
      "           SUM 35753  6224  5825  5168 5697  5896  6943\n",
      "\n",
      "NOTE: SUM + skipped objects: 35753  + 8712  = 44465\n",
      "\n",
      "OUTLIERS total (in spec subsample): 152 \n",
      "Outlier fraction: 0.07933194154488518\n",
      "|del_z| mean: 0.06808918655077978\n",
      "|del_z| scatter: 0.1667697660208093\n",
      "\n",
      "NOTE: the new \"use-able\" number for the spec subsample is: 1764\n",
      "\"master_data*.py\" Section 2 complete.\n",
      "\n",
      "\"master_data*.py\" Section 3: classifying galaxy TYPE as star-forming or quiescent...\n",
      "Summary Table 3 - Catalogue by TYPE:\n",
      "     Property     Total M0416 M1149 M0717 A370 A1063 A2744\n",
      "----------------- ----- ----- ----- ----- ---- ----- -----\n",
      "    Parent sample 35753  6224  5825  5168 5697  5896  6943\n",
      "       SF - total 28883  5171  4777  3923 4632  4846  5534\n",
      "        SF - phot 27983  4990  4595  3837 4521  4747  5293\n",
      "        SF - spec   900   181   182    86  111    99   241\n",
      "        Q - total  6718  1018  1035  1236 1044  1034  1351\n",
      "         Q - phot  5854   856   896  1071  960   922  1149\n",
      "         Q - spec   864   162   139   165   84   112   202\n",
      "         Outliers   152    35    13     9   21    16    58\n",
      "SUM (less totals) 35753  6224  5825  5168 5697  5896  6943\n",
      "\n",
      "NOTE: \"Other\" is comprised of objects without photometry (i.e. stars, and objects with either bad photometry or both bad photometry and bad spectroscopy).\n",
      "\n",
      "\"master_data*.py\" Section 3 complete.\n",
      "\n",
      "\"master_data*.py\" Section 4: spectroscopic membership cuts and classifying cluster members, field, false pos/neg...\n",
      "\n",
      "Summary Table 4 - SPEC Subsample\n",
      "Catalogue by MEMBER:\n",
      "      Property       Total M0416 M1149 M0717 A370 A1063 A2744\n",
      "-------------------- ----- ----- ----- ----- ---- ----- -----\n",
      "SPEC subsample total  1764   343   321   251  195   211   443\n",
      "         SF - member    77     7    15    18    9    13    15\n",
      "          SF - field   664   136   137    47   81    72   191\n",
      "      SF - fasle pos    56    16    10    10    6     5     9\n",
      "      SF - false neg    13     3     1     1    2     1     5\n",
      "           SF - LDTB    90    19    19    10   13     8    21\n",
      "          Q - member   635   116   112   115   71    84   137\n",
      "           Q - field    47    19     2     6    5     6     9\n",
      "       Q - false pos    82    10    10    32    5     6    19\n",
      "       Q - false neg    80    13    12     7    2    15    31\n",
      "            Q - LDTB    20     4     3     5    1     1     6\n",
      "                 SUM  1764   343   321   251  195   211   443\n",
      "\n",
      "NOTE: LDTB = Lost Due To Buffer b/w member & field (recall: the def'n of 'field' doesn't start where the def'n of 'member' stops. There's a buffer in between them.\n",
      "\n",
      "SF total: 900 \n",
      "Q total: 864 \n",
      "SF total + Q total + Outliers = 900  + 864  + 152  = 1916\n",
      "\"master_data*.py\" Section 4 complete.\n",
      "\n",
      "\"master_data*.py\" Section 5: photometric cluster membership selection beginning...\n",
      "\n",
      "Summary table 5 - PHOT-ONLY Subsample\n",
      "Catalogue by MEMBER - Star-forming:\n",
      "      Property       Total M0416 M1149 M0717 A370 A1063 A2744\n",
      "-------------------- ----- ----- ----- ----- ---- ----- -----\n",
      "PHOT subsample total 33837  5846  5491  4908 5481  5669  6442\n",
      "          SF - Total 27983  4990  4595  3837 4521  4747  5293\n",
      "         SF - member  2225   276   300   370  419   352   508\n",
      "          SF - field   385     0   118   153    0    25    89\n",
      "        SF - outlier 22620  4262  3722  2787 3632  3962  4255\n",
      "           SF - LDTB  2753   452   455   527  470   408   441\n",
      "           Q - Total  5854   856   896  1071  960   922  1149\n",
      "          Q - member  2493   255   439   532  389   387   491\n",
      "           Q - field    85     0    22    41    0     6    16\n",
      "         Q - outlier  2008   423   288   246  376   323   352\n",
      "            Q - LDTB  1268   178   147   252  195   206   290\n",
      "   SUM (less totals) 33837  5846  5491  4908 5481  5669  6442\n",
      "\n",
      "NOTE: LDTB = Lost Due To Buffer b/w member & field.\n",
      "Total Field Outliers (z>0.6 or z<0.25): 24628\n",
      "\n",
      "Overall membership fraction: \n",
      "SF: 0.07951256  & Q: 0.42586267    for cutoff: [0.01, 0.06]\n",
      "\n",
      "Total catalogue length: 44465\n",
      "PHOT ONLY sub-sample: 33837\n",
      "SF (members + field): 2610\n",
      "Q (members + field): 2578\n",
      "\n",
      "Field outliers (z>0.6 or z<0.3): 24628\n",
      "Lost due to buffer b/w definition of cluster member/field: 4021\n",
      "Stars & outliers: 0\n",
      "Sum of the above: 33837\n",
      "Difference between # in PHOT-ONLY subsample & sum above: 0\n",
      "Other (not in phot only subsample): 10628\n",
      "\"master_data*.py\" Section 5 complete.\n",
      "\n",
      "Summary Table 6 - FULL Parent Sample\n",
      "Catalogue by MEMBER:\n",
      "     Property     Total M0416 M1149 M0717 A370 A1063 A2744\n",
      "----------------- ----- ----- ----- ----- ---- ----- -----\n",
      "     Parent total 35753  6224  5825  5168 5697  5896  6943\n",
      "      PHOT member  4718   531   739   902  808   739   999\n",
      " PHOT field (ALL) 25098  4685  4150  3227 4008  4316  4712\n",
      "       PHOT TOTAL 29816  5216  4889  4129 4816  5055  5711\n",
      "      SPEC member   712   123   127   133   80    97   152\n",
      "       SPEC field   711   155   139    53   86    78   200\n",
      "   SPEC false pos   138    26    20    42   11    11    28\n",
      "   SPEC false neg    93    16    13     8    4    16    36\n",
      "       SPEC TOTAL  1654   320   299   236  181   202   416\n",
      "SUM (less totals) 31470  5536  5188  4365 4997  5257  6127\n",
      "\n",
      "NOTE: Lost Due To Buffer b/w member & field: 4131 .\n",
      "Total galaxies considered: Members + Buffer + Outliers(spec) = 31470  + 4131  + 152  = 35753 \n",
      "NOTE: Total (phot) Field Outliers (z>0.6 or z<0.3): 24628\n",
      "\n",
      "TOTAL MEMBERS SELECTED: phot + spec = 4718  + 712  = 5430\n",
      "\n",
      "\"master_data*.py\" Section 6: removing BCGs beginning...\n"
     ]
    },
    {
     "data": {
      "image/png": "[encoded data removed]",
      "text/plain": [
       "<Figure size 432x288 with 1 Axes>"
      ]
     },
     "metadata": {
      "needs_background": "light"
     },
     "output_type": "display_data"
    },
    {
     "name": "stdout",
     "output_type": "stream",
     "text": [
      "z=-99 (not in Parent sample): 142 \n",
      "Other (in Parent sample)4\n"
     ]
    },
    {
     "data": {
      "image/png": "[encoded data removed]",
      "text/plain": [
       "<Figure size 432x288 with 6 Axes>"
      ]
     },
     "metadata": {
      "needs_background": "light"
     },
     "output_type": "display_data"
    },
    {
     "name": "stdout",
     "output_type": "stream",
     "text": [
      "\n",
      "Summary Table 7: bCG stats\n",
      "   Property    Total macs0416 macs1149 macs0717 abell370 abell1063 abell2744\n",
      "-------------- ----- -------- -------- -------- -------- --------- ---------\n",
      "   Total (>12) 146.0     30.0      3.0      7.0      9.0      14.0      83.0\n",
      "Avg. delz_phot  99.0     99.0     99.0     99.0     99.0      99.0      99.0\n",
      "      SF_total   0.0      0.0      0.0      0.0      0.0       0.0       0.0\n",
      "       SF_spec   0.0      0.0      0.0      0.0      0.0       0.0       0.0\n",
      "       SF_phot   0.0      0.0      0.0      0.0      0.0       0.0       0.0\n",
      "        SF_sum   0.0      0.0      0.0      0.0      0.0       0.0       0.0\n",
      "       Q_total   3.0      1.0      1.0      0.0      1.0       0.0       0.0\n",
      "        Q_spec   2.0      1.0      1.0      0.0      0.0       0.0       0.0\n",
      "        Q_phot   1.0      0.0      0.0      0.0      1.0       0.0       0.0\n",
      "         Q_sum   3.0      1.0      1.0      0.0      1.0       0.0       0.0\n",
      "      SF+Q_sum   3.0      1.0      1.0      0.0      1.0       0.0       0.0\n",
      "Total potential (M > 11) bCGs identified from catalogue: 146 .\n",
      "BCGs identified by cluster: [30  3  7  9 14 83]\n",
      "\"master_data*.py\" Section 6 complete.\n",
      "Program \"master_data*.py\" took: 28.457895040512085 seconds to run.\n",
      "\n",
      "\n",
      "\n",
      "\n",
      "\"master_data*.py\"  terminated successfully.\n",
      "\n",
      "Program \"main_project_file.py\" took: 28.4582097530365 seconds to run.\n",
      "\n",
      "\n",
      "\n",
      "\n",
      "Program terminated successfully.\n"
     ]
    }
   ],
   "source": [
    "run main_project_file.py"
   ]
  },
  {
   "cell_type": "code",
   "execution_count": 204,
   "metadata": {},
   "outputs": [
    {
     "data": {
      "text/plain": [
       "1958"
      ]
     },
     "execution_count": 204,
     "metadata": {},
     "output_type": "execute_result"
    }
   ],
   "source": [
    "np.sum(np.sum([mem_spec,field_spec,pos_spec,neg_spec,outliers]))"
   ]
  },
  {
   "cell_type": "code",
   "execution_count": 217,
   "metadata": {},
   "outputs": [
    {
     "name": "stdout",
     "output_type": "stream",
     "text": [
      "\n",
      "Summary Table 4 - SPEC Subsample\n",
      "Catalogue by MEMBER:\n",
      "      Property       Total M0416 M1149 M0717 A370 A1063 A2744\n",
      "-------------------- ----- ----- ----- ----- ---- ----- -----\n",
      "SPEC subsample total  1764   343   321   251  195   211   443\n",
      "         SF - member    77     7    15    18    9    13    15\n",
      "          SF - field   664   136   137    47   81    72   191\n",
      "      SF - fasle pos    56    16    10    10    6     5     9\n",
      "      SF - false neg    13     3     1     1    2     1     5\n",
      "           SF - LDTB    90    19    19    10   13     8    21\n",
      "          Q - member   635   116   112   115   71    84   137\n",
      "           Q - field    47    19     2     6    5     6     9\n",
      "       Q - false pos    82    10    10    32    5     6    19\n",
      "       Q - false neg    80    13    12     7    2    15    31\n",
      "            Q - LDTB    20     4     3     5    1     1     6\n",
      "                 SUM  1764   343   321   251  195   211   443\n",
      "\n",
      "NOTE: LDTB = Lost Due To Buffer b/w member & field (recall: the def'n of 'field' doesn't start where the def'n of 'member' stops. There's a buffer in between them.\n",
      "\n",
      "SF total: 900 \n",
      "Q total: 864 \n",
      "SF total + Q total + Outliers = 900  + 864  + 152  = 1916\n"
     ]
    }
   ],
   "source": [
    "## SECTION (4.1): SUMMARY table\n",
    "##  summarize data population as segregated above, and display in a table\n",
    "#\n",
    "if summary_flag_4 == 1 or adams_flag == 1:\n",
    "    ## Summarize initial data stats in table\n",
    "    spec_member_names = Column(['SPEC subsample total','SF - member','SF - field','SF - fasle pos','SF - false neg','SF - LDTB','Q - member','Q - field','Q - false pos','Q - false neg','Q - LDTB','SUM'],name='Property')\n",
    "    col_names = cluster_names\n",
    "    # SF table\n",
    "    spec_member0 = Column([(np.sum(both)-np.sum(outliers)),np.sum(mem_spec[0]),np.sum(field_spec[0]),np.sum(pos_spec[0]),np.sum(neg_spec[0]),np.sum(lost_due_to_buffer_spec[0]),np.sum(mem_spec[1]),np.sum(field_spec[1]),np.sum(pos_spec[1]),np.sum(neg_spec[1]),np.sum(lost_due_to_buffer_spec[1]),np.sum([np.sum(mem_spec),np.sum(field_spec),np.sum(pos_spec),np.sum(neg_spec),np.sum(lost_due_to_buffer_spec)])],name='Total')  # total column\n",
    "    spec_member_stats = Table([spec_member_names,spec_member0])\n",
    "    for ii in range(len(mem_spec[0])):\n",
    "        col = Column([(both[ii]-outliers[ii]),mem_spec[0][ii],field_spec[0][ii],pos_spec[0][ii],neg_spec[0][ii],lost_due_to_buffer_spec[0][ii],mem_spec[1][ii],field_spec[1][ii],pos_spec[1][ii],neg_spec[1][ii],lost_due_to_buffer_spec[1][ii],np.sum([mem_spec[0][ii],field_spec[0][ii],pos_spec[0][ii],neg_spec[0][ii],lost_due_to_buffer_spec[0][ii],mem_spec[1][ii],field_spec[1][ii],pos_spec[1][ii],neg_spec[1][ii],lost_due_to_buffer_spec[1][ii]])],name=col_names[ii])\n",
    "        spec_member_stats.add_column(col)  # add columns to table one cluster at a time\n",
    "    #\n",
    "    print('\\nSummary Table 4 - SPEC Subsample\\nCatalogue by MEMBER:')\n",
    "    print(spec_member_stats)\n",
    "    print(\"\\nNOTE: LDTB = Lost Due To Buffer b/w member & field (recall: the def'n of 'field' doesn't start where the def'n of 'member' stops. There's a buffer in between them.\\n\")\n",
    "    print('SF total: %s'%np.sum([mem_spec[0],field_spec[0],pos_spec[0],neg_spec[0],lost_due_to_buffer_spec[0]]),'\\nQ total: %s'%np.sum([mem_spec[1],field_spec[1],pos_spec[1],neg_spec[1],lost_due_to_buffer_spec[1]]),'\\nSF total + Q total + Outliers = %s'%np.sum([mem_spec[0],field_spec[0],pos_spec[0],neg_spec[0],lost_due_to_buffer_spec[0]]),' + %s'%np.sum([mem_spec[1],field_spec[1],pos_spec[1],neg_spec[1],lost_due_to_buffer_spec[1]]),' + %s'%np.sum(outliers),' = %s'%np.sum([np.sum(mem_spec),np.sum(field_spec),np.sum(pos_spec),np.sum(neg_spec),np.sum(lost_due_to_buffer_spec),np.sum(outliers)]))\n",
    "    #####\n",
    "#\n",
    "#                       \n",
    "#"
   ]
  },
  {
   "cell_type": "code",
   "execution_count": 216,
   "metadata": {},
   "outputs": [
    {
     "data": {
      "text/plain": [
       "1916"
      ]
     },
     "execution_count": 216,
     "metadata": {},
     "output_type": "execute_result"
    }
   ],
   "source": []
  },
  {
   "cell_type": "code",
   "execution_count": 212,
   "metadata": {},
   "outputs": [
    {
     "data": {
      "text/plain": [
       "152"
      ]
     },
     "execution_count": 212,
     "metadata": {},
     "output_type": "execute_result"
    }
   ],
   "source": [
    "np.sum(outliers)"
   ]
  },
  {
   "cell_type": "code",
   "execution_count": 154,
   "metadata": {},
   "outputs": [
    {
     "data": {
      "text/plain": [
       "6"
      ]
     },
     "execution_count": 154,
     "metadata": {},
     "output_type": "execute_result"
    }
   ],
   "source": [
    "good_BCG_cluster = [[],[],[],[],[],[]]\n",
    "len(good_BCG_cluster)"
   ]
  },
  {
   "cell_type": "code",
   "execution_count": 117,
   "metadata": {},
   "outputs": [
    {
     "data": {
      "text/plain": [
       "['M0416', 'M1149', 'M0717', 'A370', 'A1063', 'A2744']"
      ]
     },
     "execution_count": 117,
     "metadata": {},
     "output_type": "execute_result"
    }
   ],
   "source": [
    "cluster_names"
   ]
  },
  {
   "cell_type": "code",
   "execution_count": null,
   "metadata": {},
   "outputs": [],
   "source": []
  }
 ],
 "metadata": {
  "kernelspec": {
   "display_name": "Python 3",
   "language": "python",
   "name": "python3"
  }
 },
 "nbformat": 4,
 "nbformat_minor": 4
}
