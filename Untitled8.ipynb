{
 "cells": [
  {
   "cell_type": "code",
   "execution_count": 241,
   "metadata": {},
   "outputs": [
    {
     "name": "stdout",
     "output_type": "stream",
     "text": [
      "Beginning master_data*.py\n",
      "\"master_data*.py\" Section 1: import data beginning...\n",
      "DIAG_1 - Catalogue by SUB-type:\n",
      "  Property  Total macs0416 macs1149 macs0717 abell370 abell1063 abell2744\n",
      "----------- ----- -------- -------- -------- -------- --------- ---------\n",
      "      total 44465     7431     6868     6370     6795      7611      9390\n",
      "spec & phot  1916      378      334      260      216       227       501\n",
      "  only phot 33837     5846     5491     4908     5481      5669      6442\n",
      "  spec only   104       10       10       32        5         8        39\n",
      "    no data  8192     1152      994     1016     1033      1636      2361\n",
      "      stars   416       45       39      154       60        71        47\n",
      "Other skipped objects: 0\n",
      "\"master_data*.py\" Section 1 complete.\n",
      "\n",
      "\n",
      "'master_data*.py' Section 2: calculating del_z's and identifying outliers...\n",
      "DIAG_2\n",
      "OUTLIERS total: 152\n",
      "Outlier fraction: 0.07933194154488518\n",
      "|del_z| mean: 0.06808918655077978\n",
      "|del_z| scatter: 0.1667697660208093\n",
      "\n",
      "\"master_data*.py\" Section 2 complete.\n",
      "\n",
      "\"master_data*.py\" Section 3: classifying galaxy TYPE as star-forming or quiescent...\n",
      "DIAG_3 - Catalogue by TYPE:\n",
      "Property Total macs0416 macs1149 macs0717 abell370 abell1063 abell2744\n",
      "-------- ----- -------- -------- -------- -------- --------- ---------\n",
      "   Total 44465     7431     6868     6370     6795      7611      9390\n",
      "      SF 28883     5171     4777     3923     4632      4846      5534\n",
      "       Q  6718     1018     1035     1236     1044      1034      1351\n",
      "Outliers   152       35       13        9       21        16        58\n",
      "   Other  8712     1207     1043     1202     1098      1715      2447\n",
      "NOTE: \"Other\" is comprised of objects without photometry (i.e. stars, and objects with either bad photometry or both bad photometry and bad spectroscopy).\n",
      "\n",
      "\"master_data*.py\" Section 3 complete.\n",
      "\n",
      "\"master_data*.py\" Section 4: spectroscopic membership cuts and classifying cluster members, field, false pos/neg...\n",
      "\n",
      "\n",
      "DIAG_4: ENTERING redshift cutoff VARIATIONAL DIAGNOSTIC...\n",
      "\n",
      "\n",
      "5 th cut of 5  being investigated.\n",
      "z_spec cut: 0.010 ; in range 0.010  to 0.050 \n",
      "Current progress: 0.000 %\n",
      "This is the first time you ran this program today, isn't it ghassan?\n",
      "WARNING: NO GALAXIES FOUND AT CLUSTER 1  LIMITING MAG. of 26.2  +/- 0.05 \n",
      "Closest thing Old Faithful could find was 7.56  w/ mag 26.11\n",
      "Program \"data_mass_completeness*.py\" took: 2.124397039413452 seconds to run.\n",
      "\n",
      "\n"
     ]
    },
    {
     "ename": "TypeError",
     "evalue": "object of type <class 'numpy.float64'> cannot be safely interpreted as an integer.",
     "output_type": "error",
     "traceback": [
      "\u001b[0;31m---------------------------------------------------------------------------\u001b[0m",
      "\u001b[0;31mTypeError\u001b[0m                                 Traceback (most recent call last)",
      "\u001b[0;32m~/anaconda3/lib/python3.7/site-packages/numpy/core/function_base.py\u001b[0m in \u001b[0;36mlinspace\u001b[0;34m(start, stop, num, endpoint, retstep, dtype, axis)\u001b[0m\n\u001b[1;32m    116\u001b[0m     \u001b[0;32mtry\u001b[0m\u001b[0;34m:\u001b[0m\u001b[0;34m\u001b[0m\u001b[0;34m\u001b[0m\u001b[0m\n\u001b[0;32m--> 117\u001b[0;31m         \u001b[0mnum\u001b[0m \u001b[0;34m=\u001b[0m \u001b[0moperator\u001b[0m\u001b[0;34m.\u001b[0m\u001b[0mindex\u001b[0m\u001b[0;34m(\u001b[0m\u001b[0mnum\u001b[0m\u001b[0;34m)\u001b[0m\u001b[0;34m\u001b[0m\u001b[0;34m\u001b[0m\u001b[0m\n\u001b[0m\u001b[1;32m    118\u001b[0m     \u001b[0;32mexcept\u001b[0m \u001b[0mTypeError\u001b[0m\u001b[0;34m:\u001b[0m\u001b[0;34m\u001b[0m\u001b[0;34m\u001b[0m\u001b[0m\n",
      "\u001b[0;31mTypeError\u001b[0m: 'numpy.float64' object cannot be interpreted as an integer",
      "\nDuring handling of the above exception, another exception occurred:\n",
      "\u001b[0;31mTypeError\u001b[0m                                 Traceback (most recent call last)",
      "\u001b[0;32m~/Documents/Programs/Python/nserc17/working_data/HFF_environmental_quenching/main_project_file.py\u001b[0m in \u001b[0;36m<module>\u001b[0;34m\u001b[0m\n\u001b[1;32m     94\u001b[0m \u001b[0;32mif\u001b[0m \u001b[0msection_1_flag\u001b[0m \u001b[0;34m==\u001b[0m \u001b[0;36m1\u001b[0m\u001b[0;34m:\u001b[0m\u001b[0;34m\u001b[0m\u001b[0;34m\u001b[0m\u001b[0m\n\u001b[1;32m     95\u001b[0m     \u001b[0mprint\u001b[0m\u001b[0;34m(\u001b[0m\u001b[0;34m'Beginning master_data*.py'\u001b[0m\u001b[0;34m)\u001b[0m\u001b[0;34m\u001b[0m\u001b[0;34m\u001b[0m\u001b[0m\n\u001b[0;32m---> 96\u001b[0;31m     \u001b[0mexec\u001b[0m\u001b[0;34m(\u001b[0m\u001b[0mopen\u001b[0m\u001b[0;34m(\u001b[0m\u001b[0;34m'master_data_7_final.py'\u001b[0m\u001b[0;34m)\u001b[0m\u001b[0;34m.\u001b[0m\u001b[0mread\u001b[0m\u001b[0;34m(\u001b[0m\u001b[0;34m)\u001b[0m\u001b[0;34m)\u001b[0m      \u001b[0;31m#opens and executes the script\u001b[0m\u001b[0;34m\u001b[0m\u001b[0;34m\u001b[0m\u001b[0m\n\u001b[0m\u001b[1;32m     97\u001b[0m \u001b[0;31m#\u001b[0m\u001b[0;34m\u001b[0m\u001b[0;34m\u001b[0m\u001b[0;34m\u001b[0m\u001b[0m\n\u001b[1;32m     98\u001b[0m \u001b[0;31m#\u001b[0m\u001b[0;34m\u001b[0m\u001b[0;34m\u001b[0m\u001b[0;34m\u001b[0m\u001b[0m\n",
      "\u001b[0;32m~/Documents/Programs/Python/nserc17/working_data/HFF_environmental_quenching/main_project_file.py\u001b[0m in \u001b[0;36m<module>\u001b[0;34m\u001b[0m\n",
      "\u001b[0;32m~/Documents/Programs/Python/nserc17/working_data/HFF_environmental_quenching/main_project_file.py\u001b[0m in \u001b[0;36m<module>\u001b[0;34m\u001b[0m\n",
      "\u001b[0;32m<__array_function__ internals>\u001b[0m in \u001b[0;36mlinspace\u001b[0;34m(*args, **kwargs)\u001b[0m\n",
      "\u001b[0;32m~/anaconda3/lib/python3.7/site-packages/numpy/core/function_base.py\u001b[0m in \u001b[0;36mlinspace\u001b[0;34m(start, stop, num, endpoint, retstep, dtype, axis)\u001b[0m\n\u001b[1;32m    119\u001b[0m         raise TypeError(\n\u001b[1;32m    120\u001b[0m             \u001b[0;34m\"object of type {} cannot be safely interpreted as an integer.\"\u001b[0m\u001b[0;34m\u001b[0m\u001b[0;34m\u001b[0m\u001b[0m\n\u001b[0;32m--> 121\u001b[0;31m                 .format(type(num)))\n\u001b[0m\u001b[1;32m    122\u001b[0m \u001b[0;34m\u001b[0m\u001b[0m\n\u001b[1;32m    123\u001b[0m     \u001b[0;32mif\u001b[0m \u001b[0mnum\u001b[0m \u001b[0;34m<\u001b[0m \u001b[0;36m0\u001b[0m\u001b[0;34m:\u001b[0m\u001b[0;34m\u001b[0m\u001b[0;34m\u001b[0m\u001b[0m\n",
      "\u001b[0;31mTypeError\u001b[0m: object of type <class 'numpy.float64'> cannot be safely interpreted as an integer."
     ]
    }
   ],
   "source": [
    "run main_project_file.py"
   ]
  },
  {
   "cell_type": "code",
   "execution_count": 242,
   "metadata": {},
   "outputs": [
    {
     "name": "stdout",
     "output_type": "stream",
     "text": [
      "\"master_data*.py\" Section 1: import data beginning...\n",
      "DIAG_1 - Catalogue by SUB-type:\n",
      "  Property  Total macs0416 macs1149 macs0717 abell370 abell1063 abell2744\n",
      "----------- ----- -------- -------- -------- -------- --------- ---------\n",
      "      total 44465     7431     6868     6370     6795      7611      9390\n",
      "spec & phot  1916      378      334      260      216       227       501\n",
      "  only phot 33837     5846     5491     4908     5481      5669      6442\n",
      "  spec only   104       10       10       32        5         8        39\n",
      "    no data  8192     1152      994     1016     1033      1636      2361\n",
      "      stars   416       45       39      154       60        71        47\n",
      "Other skipped objects: 0\n",
      "\"master_data*.py\" Section 1 complete.\n",
      "\n",
      "\n",
      "'master_data*.py' Section 2: calculating del_z's and identifying outliers...\n",
      "DIAG_2\n",
      "OUTLIERS total: 152\n",
      "Outlier fraction: 0.07933194154488518\n",
      "|del_z| mean: 0.06808918655077978\n",
      "|del_z| scatter: 0.1667697660208093\n",
      "\n",
      "\"master_data*.py\" Section 2 complete.\n",
      "\n",
      "\"master_data*.py\" Section 3: classifying galaxy TYPE as star-forming or quiescent...\n",
      "DIAG_3 - Catalogue by TYPE:\n",
      "Property Total macs0416 macs1149 macs0717 abell370 abell1063 abell2744\n",
      "-------- ----- -------- -------- -------- -------- --------- ---------\n",
      "   Total 44465     7431     6868     6370     6795      7611      9390\n",
      "      SF 28883     5171     4777     3923     4632      4846      5534\n",
      "       Q  6718     1018     1035     1236     1044      1034      1351\n",
      "Outliers   152       35       13        9       21        16        58\n",
      "   Other  8712     1207     1043     1202     1098      1715      2447\n",
      "NOTE: \"Other\" is comprised of objects without photometry (i.e. stars, and objects with either bad photometry or both bad photometry and bad spectroscopy).\n",
      "\n",
      "\"master_data*.py\" Section 3 complete.\n",
      "\n",
      "\"master_data*.py\" Section 4: spectroscopic membership cuts and classifying cluster members, field, false pos/neg...\n",
      "\n",
      "\n",
      "DIAG_4: ENTERING redshift cutoff VARIATIONAL DIAGNOSTIC...\n",
      "\n",
      "\n",
      "5 th cut of 5  being investigated.\n",
      "z_spec cut: 0.010 ; in range 0.010  to 0.050 \n",
      "Current progress: 0.000 %\n",
      "This is the first time you ran this program today, isn't it ghassan?\n",
      "WARNING: NO GALAXIES FOUND AT CLUSTER 1  LIMITING MAG. of 26.2  +/- 0.05 \n",
      "Closest thing Old Faithful could find was 7.56  w/ mag 26.11\n",
      "Program \"data_mass_completeness*.py\" took: 1.943375825881958 seconds to run.\n",
      "\n",
      "\n"
     ]
    },
    {
     "ename": "TypeError",
     "evalue": "object of type <class 'numpy.float64'> cannot be safely interpreted as an integer.",
     "output_type": "error",
     "traceback": [
      "\u001b[0;31m---------------------------------------------------------------------------\u001b[0m",
      "\u001b[0;31mTypeError\u001b[0m                                 Traceback (most recent call last)",
      "\u001b[0;32m~/anaconda3/lib/python3.7/site-packages/numpy/core/function_base.py\u001b[0m in \u001b[0;36mlinspace\u001b[0;34m(start, stop, num, endpoint, retstep, dtype, axis)\u001b[0m\n\u001b[1;32m    116\u001b[0m     \u001b[0;32mtry\u001b[0m\u001b[0;34m:\u001b[0m\u001b[0;34m\u001b[0m\u001b[0;34m\u001b[0m\u001b[0m\n\u001b[0;32m--> 117\u001b[0;31m         \u001b[0mnum\u001b[0m \u001b[0;34m=\u001b[0m \u001b[0moperator\u001b[0m\u001b[0;34m.\u001b[0m\u001b[0mindex\u001b[0m\u001b[0;34m(\u001b[0m\u001b[0mnum\u001b[0m\u001b[0;34m)\u001b[0m\u001b[0;34m\u001b[0m\u001b[0;34m\u001b[0m\u001b[0m\n\u001b[0m\u001b[1;32m    118\u001b[0m     \u001b[0;32mexcept\u001b[0m \u001b[0mTypeError\u001b[0m\u001b[0;34m:\u001b[0m\u001b[0;34m\u001b[0m\u001b[0;34m\u001b[0m\u001b[0m\n",
      "\u001b[0;31mTypeError\u001b[0m: 'numpy.float64' object cannot be interpreted as an integer",
      "\nDuring handling of the above exception, another exception occurred:\n",
      "\u001b[0;31mTypeError\u001b[0m                                 Traceback (most recent call last)",
      "\u001b[0;32m~/Documents/Programs/Python/nserc17/working_data/HFF_environmental_quenching/master_data_7_final.py\u001b[0m in \u001b[0;36m<module>\u001b[0;34m\u001b[0m\n\u001b[1;32m    655\u001b[0m             \u001b[0;31m#\u001b[0m\u001b[0;34m\u001b[0m\u001b[0;34m\u001b[0m\u001b[0;34m\u001b[0m\u001b[0m\n\u001b[1;32m    656\u001b[0m             \u001b[0;31m#\u001b[0m\u001b[0;34m\u001b[0m\u001b[0;34m\u001b[0m\u001b[0;34m\u001b[0m\u001b[0m\n\u001b[0;32m--> 657\u001b[0;31m             \u001b[0mexec\u001b[0m\u001b[0;34m(\u001b[0m\u001b[0mopen\u001b[0m\u001b[0;34m(\u001b[0m\u001b[0;34m'spec_completeness_binning.py'\u001b[0m\u001b[0;34m)\u001b[0m\u001b[0;34m.\u001b[0m\u001b[0mread\u001b[0m\u001b[0;34m(\u001b[0m\u001b[0;34m)\u001b[0m\u001b[0;34m)\u001b[0m      \u001b[0;31m#opens and executes the script 'spec_completeness_binning.py'\u001b[0m\u001b[0;34m\u001b[0m\u001b[0;34m\u001b[0m\u001b[0m\n\u001b[0m\u001b[1;32m    658\u001b[0m             \u001b[0;31m#\u001b[0m\u001b[0;34m\u001b[0m\u001b[0;34m\u001b[0m\u001b[0;34m\u001b[0m\u001b[0m\n\u001b[1;32m    659\u001b[0m             \u001b[0;31m#\u001b[0m\u001b[0;34m\u001b[0m\u001b[0;34m\u001b[0m\u001b[0;34m\u001b[0m\u001b[0m\n",
      "\u001b[0;32m~/Documents/Programs/Python/nserc17/working_data/HFF_environmental_quenching/master_data_7_final.py\u001b[0m in \u001b[0;36m<module>\u001b[0;34m\u001b[0m\n",
      "\u001b[0;32m<__array_function__ internals>\u001b[0m in \u001b[0;36mlinspace\u001b[0;34m(*args, **kwargs)\u001b[0m\n",
      "\u001b[0;32m~/anaconda3/lib/python3.7/site-packages/numpy/core/function_base.py\u001b[0m in \u001b[0;36mlinspace\u001b[0;34m(start, stop, num, endpoint, retstep, dtype, axis)\u001b[0m\n\u001b[1;32m    119\u001b[0m         raise TypeError(\n\u001b[1;32m    120\u001b[0m             \u001b[0;34m\"object of type {} cannot be safely interpreted as an integer.\"\u001b[0m\u001b[0;34m\u001b[0m\u001b[0;34m\u001b[0m\u001b[0m\n\u001b[0;32m--> 121\u001b[0;31m                 .format(type(num)))\n\u001b[0m\u001b[1;32m    122\u001b[0m \u001b[0;34m\u001b[0m\u001b[0m\n\u001b[1;32m    123\u001b[0m     \u001b[0;32mif\u001b[0m \u001b[0mnum\u001b[0m \u001b[0;34m<\u001b[0m \u001b[0;36m0\u001b[0m\u001b[0;34m:\u001b[0m\u001b[0;34m\u001b[0m\u001b[0;34m\u001b[0m\u001b[0m\n",
      "\u001b[0;31mTypeError\u001b[0m: object of type <class 'numpy.float64'> cannot be safely interpreted as an integer."
     ]
    }
   ],
   "source": [
    "run master_data_7_final.py\n"
   ]
  },
  {
   "cell_type": "code",
   "execution_count": 244,
   "metadata": {},
   "outputs": [
    {
     "data": {
      "text/plain": [
       "[6.64, 12.3]"
      ]
     },
     "execution_count": 244,
     "metadata": {},
     "output_type": "execute_result"
    }
   ],
   "source": [
    "range2 = [min(limiting_mass),12.3]\n",
    "range2"
   ]
  },
  {
   "cell_type": "code",
   "execution_count": 144,
   "metadata": {},
   "outputs": [
    {
     "name": "stdout",
     "output_type": "stream",
     "text": [
      "[44465 34962 22759     0]\n"
     ]
    }
   ],
   "source": [
    "a=np.array([0]*4)\n",
    "#\n",
    "for counter in range(len(master_cat)):\n",
    "    for ii in range(len(limiting_mass)):\n",
    "        if master_cat['cluster'][counter] == (ii+1):           # only look at objects above the limiting mass for each cluster\n",
    "            a[0]+=1\n",
    "            if master_cat['lmass'][counter] > limiting_mass[ii]:\n",
    "                a[1]+=1\n",
    "                if master_cat['type'][counter] == 1:      # type=1 for SF\n",
    "                    a[2]+=1\n",
    "                    if master_cat['member'][counter] == 2:\n",
    "                        a[3]+=1\n",
    "print(a)"
   ]
  },
  {
   "cell_type": "code",
   "execution_count": 173,
   "metadata": {},
   "outputs": [
    {
     "data": {
      "text/plain": [
       "array([[-0.41053588, -2.85782878,  0.08817191, ..., -0.02760781,\n",
       "         1.31333595,  1.40080577],\n",
       "       [ 0.82689852,  0.14918014,  0.4654094 , ...,  0.47370606,\n",
       "         1.37678456,  1.79940493],\n",
       "       [ 7.67      ,  6.91      ,  7.06      , ...,  6.25      ,\n",
       "        10.26      , 10.75      ]])"
      ]
     },
     "execution_count": 173,
     "metadata": {},
     "output_type": "execute_result"
    }
   ],
   "source": [
    "SF_array = np.array(SF_array)\n",
    "SF_array"
   ]
  },
  {
   "cell_type": "code",
   "execution_count": 237,
   "metadata": {},
   "outputs": [],
   "source": [
    "project_diagnostic_flag = 1"
   ]
  },
  {
   "cell_type": "code",
   "execution_count": 211,
   "metadata": {},
   "outputs": [
    {
     "name": "stdout",
     "output_type": "stream",
     "text": [
      "|${\\del}$z$_{phot}$|\n"
     ]
    }
   ],
   "source": [
    "print(\"|${\\Delta}$z$_{phot}$|\")"
   ]
  },
  {
   "cell_type": "code",
   "execution_count": 215,
   "metadata": {},
   "outputs": [
    {
     "data": {
      "text/plain": [
       "array([0.05, 0.09])"
      ]
     },
     "execution_count": 215,
     "metadata": {},
     "output_type": "execute_result"
    }
   ],
   "source": [
    "z_cutoff"
   ]
  },
  {
   "cell_type": "code",
   "execution_count": null,
   "metadata": {},
   "outputs": [],
   "source": []
  }
 ],
 "metadata": {
  "kernelspec": {
   "display_name": "Python 3",
   "language": "python",
   "name": "python3"
  },
  "language_info": {
   "codemirror_mode": {
    "name": "ipython",
    "version": 3
   },
   "file_extension": ".py",
   "mimetype": "text/x-python",
   "name": "python",
   "nbconvert_exporter": "python",
   "pygments_lexer": "ipython3",
   "version": "3.7.1"
  }
 },
 "nbformat": 4,
 "nbformat_minor": 4
}
